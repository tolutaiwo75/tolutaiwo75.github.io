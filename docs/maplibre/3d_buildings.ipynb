{
  "cells": [
    {
      "cell_type": "markdown",
      "metadata": {
        "id": "view-in-github",
        "colab_type": "text"
      },
      "source": [
        "<a href=\"https://colab.research.google.com/github/tolutaiwo75/tolutaiwo75.github.io/blob/main/docs/maplibre/3d_buildings.ipynb\" target=\"_parent\"><img src=\"https://colab.research.google.com/assets/colab-badge.svg\" alt=\"Open In Colab\"/></a>"
      ]
    },
    {
      "cell_type": "markdown",
      "metadata": {
        "id": "7owCGaRF8fDX"
      },
      "source": [
        "[![image](https://jupyterlite.rtfd.io/en/latest/_static/badge.svg)](https://demo.leafmap.org/lab/index.html?path=maplibre/3d_buildings.ipynb)\n",
        "[![image](https://colab.research.google.com/assets/colab-badge.svg)](https://colab.research.google.com/github/opengeos/leafmap/blob/master/docs/maplibre/3d_buildings.ipynb)\n",
        "[![image](https://mybinder.org/badge_logo.svg)](https://mybinder.org/v2/gh/opengeos/leafmap/HEAD)\n",
        "\n",
        "**Display buildings in 3D**\n",
        "\n",
        "This source code of this example is adapted from the MapLibre GL JS example - [Display buildings in 3D](https://maplibre.org/maplibre-gl-js/docs/examples/3d-buildings/).\n",
        "\n",
        "Uncomment the following line to install [leafmap](https://leafmap.org) if needed."
      ]
    },
    {
      "cell_type": "code",
      "execution_count": null,
      "metadata": {
        "id": "bLoa3FqY8fDf"
      },
      "outputs": [],
      "source": [
        "%pip install \"leafmap[maplibre]\""
      ]
    },
    {
      "cell_type": "code",
      "execution_count": null,
      "metadata": {
        "id": "e9N__Mk18fDh"
      },
      "outputs": [],
      "source": [
        "import leafmap.maplibregl as leafmap"
      ]
    },
    {
      "cell_type": "markdown",
      "metadata": {
        "id": "ZIVR5fV58fDi"
      },
      "source": [
        "To run this notebook, you will need an [API key](https://docs.maptiler.com/cloud/api/authentication-key/) from [MapTiler](https://www.maptiler.com/cloud/). Once you have the API key, you can uncomment the following code block and replace `YOUR_API_KEY` with your actual API key. Then, run the code block code to set the API key as an environment variable."
      ]
    },
    {
      "cell_type": "code",
      "execution_count": null,
      "metadata": {
        "id": "szEzBw5r8fDj"
      },
      "outputs": [],
      "source": [
        "import os\n",
        "os.environ[\"MAPTILER_KEY\"] = \"7YwVUD1rSaBhidbyogqy\""
      ]
    },
    {
      "cell_type": "code",
      "execution_count": null,
      "metadata": {
        "id": "jk_WnZw28fDk"
      },
      "outputs": [],
      "source": [
        "MAPTILER_KEY = leafmap.get_api_key(\"MAPTILER_KEY\")"
      ]
    },
    {
      "cell_type": "code",
      "execution_count": null,
      "metadata": {
        "id": "HOhTBFTw8fDk"
      },
      "outputs": [],
      "source": [
        "m = leafmap.Map(\n",
        "    center=[-74.0066, 40.7135], zoom=16, pitch=45, bearing=-17, style=\"basic-v2\"\n",
        ")\n",
        "m.add_3d_buildings(values = [0, 3, 7, 10, 15], colors = [\"white\",\"lightgray\", \"royalblue\", \"lightblue\", \"blue\"])\n",
        "m"
      ]
    },
    {
      "cell_type": "markdown",
      "metadata": {
        "id": "MZyQ2EnT8fDm"
      },
      "source": [
        "![](https://i.imgur.com/tusvTMZ.gif)"
      ]
    }
  ],
  "metadata": {
    "kernelspec": {
      "display_name": "Python 3 (ipykernel)",
      "language": "python",
      "name": "python3"
    },
    "language_info": {
      "codemirror_mode": {
        "name": "ipython",
        "version": 3
      },
      "file_extension": ".py",
      "mimetype": "text/x-python",
      "name": "python",
      "nbconvert_exporter": "python",
      "pygments_lexer": "ipython3",
      "version": "3.11.9"
    },
    "colab": {
      "provenance": [],
      "include_colab_link": true
    }
  },
  "nbformat": 4,
  "nbformat_minor": 0
}